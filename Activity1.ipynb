{
 "cells": [
  {
   "cell_type": "code",
   "execution_count": null,
   "metadata": {},
   "outputs": [],
   "source": [
    "import numpy as np\n",
    "import matplotlib.pyplot as plt\n",
    "\n",
    "\"\"\"Compute the sigmoid function.\"\"\"\n",
    "\n",
    "def sigmoid(x):\n",
    "    return 1 / (1 + np.exp(-x))\n",
    "\n",
    "\n",
    "\"\"\"Compute the ReLU function.\"\"\"\n",
    "\n",
    "def ReLU(x):\n",
    "    return np.maximum(0, x)\n",
    "\n",
    "\"\"\"Compute the Leaky ReLU function.\"\"\"\n",
    "\n",
    "def Leaky_ReLU(x):\n",
    "    return max(0, x)\n",
    "\n",
    "\n",
    "\"\"\"Compute the Leaky Tanh function.\"\"\"\n",
    "def tanh(x):\n",
    "    return np.tanh(x)\n",
    "\n",
    "\n",
    "\n",
    "# Function to plot the graph of a function for the provided input.\n",
    "def plot_function(input_list, function_name):\n",
    "    \"\"\"Plot the sigmoid function for a given input list of numbers.\"\"\"\n",
    "    # Convert input list to numpy array\n",
    "    x_values = np.array(input_list)\n",
    "    \n",
    "    # Compute sigmoid function for each value\n",
    "    y_values = function_name(x_values)\n",
    "    \n",
    "    # Plot the sigmoid function\n",
    "    plt.plot(x_values, y_values, marker='o', linestyle='-')\n",
    "    plt.title(str(function_name) + 'Function')\n",
    "    plt.xlabel('Input')\n",
    "    plt.ylabel('Sigmoid(Output)')\n",
    "    plt.grid(True)\n",
    "    plt.show()"
   ]
  },
  {
   "cell_type": "code",
   "execution_count": null,
   "metadata": {},
   "outputs": [],
   "source": [
    "plot_function([-3.5, -1.2, 0, 2.8, -4.1, 1.5, -0.7, 3.2, -2.4, 4.6], sigmoid)"
   ]
  },
  {
   "cell_type": "code",
   "execution_count": null,
   "metadata": {},
   "outputs": [],
   "source": [
    "plot_function([-3.5, -1.2, 0, 2.8, -4.1, 1.5, -0.7, 3.2, -2.4, 4.6], ReLU)"
   ]
  },
  {
   "cell_type": "code",
   "execution_count": null,
   "metadata": {},
   "outputs": [],
   "source": [
    "plot_function([-3.5, -1.2, 0, 2.8, -4.1, 1.5, -0.7, 3.2, -2.4, 4.6], Leaky_ReLU)"
   ]
  },
  {
   "cell_type": "code",
   "execution_count": null,
   "metadata": {},
   "outputs": [],
   "source": [
    "plot_function([-3.5, -1.2, 0, 2.8, -4.1, 1.5, -0.7, 3.2, -2.4, 4.6], tanh)"
   ]
  }
 ],
 "metadata": {
  "kernelspec": {
   "display_name": "Python 3",
   "language": "python",
   "name": "python3"
  },
  "language_info": {
   "codemirror_mode": {
    "name": "ipython",
    "version": 3
   },
   "file_extension": ".py",
   "mimetype": "text/x-python",
   "name": "python",
   "nbconvert_exporter": "python",
   "pygments_lexer": "ipython3",
   "version": "3.11.8"
  }
 },
 "nbformat": 4,
 "nbformat_minor": 2
}
