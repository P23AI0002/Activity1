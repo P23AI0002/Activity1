{
 "cells": [
  {
   "cell_type": "code",
   "execution_count": null,
   "metadata": {},
   "outputs": [],
   "source": [
    "import numpy as np\n",
    "import matplotlib.pyplot as plt\n",
    "\n",
    "\"\"\"Compute the sigmoid function.\"\"\"\n",
    "\n",
    "def sigmoid(x):\n",
    "    return 1 / (1 + np.exp(-x))\n",
    "\n",
    "\n",
    "\"\"\"Compute the ReLU function.\"\"\"\n",
    "\n",
    "def ReLU(x):\n",
    "    return np.maximum(0, x)\n",
    "\n",
    "\"\"\"Compute the Leaky ReLU function.\"\"\"\n",
    "\n",
    "def Leaky_ReLU(x):\n",
    "    return max(0, x)\n",
    "\n",
    "\n",
    "\"\"\"Compute the Leaky Tanh function.\"\"\"\n",
    "def tanh(x):\n",
    "    return np.tanh(x)\n",
    "\n",
    "\n",
    "\n",
    "# Function to plot the graph of a function for the provided input.\n",
    "def plot_function(input_list, function_name):\n",
    "    \"\"\"Plot the sigmoid function for a given input list of numbers.\"\"\"\n",
    "    # Convert input list to numpy array\n",
    "    x_values = np.array(input_list)\n",
    "    \n",
    "    # Compute sigmoid function for each value\n",
    "    y_values = function_name(x_values)\n",
    "    \n",
    "    # Plot the sigmoid function\n",
    "    plt.plot(x_values, y_values, marker='o', linestyle='-')\n",
    "    plt.title(str(function_name) + 'Function')\n",
    "    plt.xlabel('Input')\n",
    "    plt.ylabel('Sigmoid(Output)')\n",
    "    plt.grid(True)\n",
    "    plt.show()"
   ]
  }
 ],
 "metadata": {
  "language_info": {
   "name": "python"
  }
 },
 "nbformat": 4,
 "nbformat_minor": 2
}
